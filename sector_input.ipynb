{
  "nbformat": 4,
  "nbformat_minor": 0,
  "metadata": {
    "colab": {
      "provenance": [],
      "authorship_tag": "ABX9TyM8MpGxdevuiuUI79cvG+L2",
      "include_colab_link": true
    },
    "kernelspec": {
      "name": "python3",
      "display_name": "Python 3"
    },
    "language_info": {
      "name": "python"
    }
  },
  "cells": [
    {
      "cell_type": "markdown",
      "metadata": {
        "id": "view-in-github",
        "colab_type": "text"
      },
      "source": [
        "<a href=\"https://colab.research.google.com/github/dudeh534/Mirae_Exit/blob/main/sector_input.ipynb\" target=\"_parent\"><img src=\"https://colab.research.google.com/assets/colab-badge.svg\" alt=\"Open In Colab\"/></a>"
      ]
    },
    {
      "cell_type": "code",
      "execution_count": null,
      "metadata": {
        "colab": {
          "base_uri": "https://localhost:8080/"
        },
        "id": "lPJEG8b8l2iV",
        "outputId": "c2c8182b-c984-4f9e-ddd0-cb8e195429f1"
      },
      "outputs": [
        {
          "output_type": "stream",
          "name": "stdout",
          "text": [
            "Mounted at /content/drive\n"
          ]
        }
      ],
      "source": [
        "#구글드라이브 연동용\n",
        "import os, sys\n",
        "from google.colab import drive\n",
        "drive.mount('/content/drive')\n",
        "\n",
        "my_path = '/content/notebooks'\n",
        "# Colab Notebooks 안에 my_env 폴더에 패키지 저장\n",
        "#os.symlink('/content/drive/My Drive/Colab Notebooks/my_env', my_path)\n",
        "\n",
        "os.symlink('/content/drive/My Drive/Colab Notebooks/my_env', my_path)\n",
        "sys.path.insert(0, my_path)"
      ]
    },
    {
      "cell_type": "code",
      "source": [
        "import time\n",
        "import json\n",
        "import requests as rq\n",
        "from bs4 import BeautifulSoup\n",
        "import pandas as pd\n",
        "from tqdm import tqdm\n",
        "import oracledb\n",
        "import re\n",
        "\n",
        "#날짜가져오기\n",
        "url = 'https://finance.naver.com/sise/sise_deposit.nhn'\n",
        "data = rq.get(url)\n",
        "data_html = BeautifulSoup(data.content)\n",
        "parse_day = data_html.select_one(\n",
        "    'div.subtop_sise_graph2 > ul.subtop_chart_note > li > span.tah').text\n",
        "\n",
        "biz_day = re.findall('[0-9]+', parse_day)\n",
        "biz_day = ''.join(biz_day)\n",
        "\n",
        "print(biz_day)\n",
        "\n",
        "sector_code = [\n",
        "    'G25', 'G35', 'G50', 'G40', 'G10', 'G20', 'G55', 'G30', 'G15', 'G45'\n",
        "]\n",
        "\n",
        "data_sector = []\n",
        "\n",
        "for i in tqdm(sector_code):\n",
        "    url = f'''http://www.wiseindex.com/Index/GetIndexComponets?ceil_yn=0&dt={biz_day}&sec_cd={i}'''\n",
        "    data = rq.get(url).json()\n",
        "    data_pd = pd.json_normalize(data['list'])\n",
        "\n",
        "    data_sector.append(data_pd)\n",
        "\n",
        "    time.sleep(2)\n",
        "\n",
        "kor_sector = pd.concat(data_sector, axis = 0)\n",
        "kor_sector = kor_sector[['IDX_CD', 'CMP_CD', 'CMP_KOR', 'SEC_NM_KOR']]\n",
        "kor_sector['기준일'] = biz_day\n",
        "kor_sector['기준일'] = pd.to_datetime(kor_sector['기준일'])\n",
        "\n",
        "#오라클 연결\n",
        "connection=oracledb.connect(\n",
        "     user=\"admin\",\n",
        "     password='rlaTPWNS!123',\n",
        "     dsn=\"gangnamdatabase_high\",\n",
        "     config_dir=\"/content/drive/MyDrive/Colab Notebooks\",\n",
        "     wallet_location=\"/content/drive/MyDrive/Colab Notebooks\",\n",
        "     wallet_password='rlaTPWNS!123')\n",
        "\n",
        "mycursor = connection.cursor()\n",
        "sql = '''INSERT INTO kor_ticker (기준일, 종목코드, 종목명, 시장구분, 종가, 시가총액, EPS, 선행EPS, BPS, 주당배당금, 종목구분) VALUES (:1,:2,:3,:4,:5,:6,:7,:8,:9,:10,:11)'''\n",
        "query = '''\n",
        "    insert into kor_sector (IDX_CD, CMP_CD, CMP_KOR, SEC_NM_KOR, 기준일)\n",
        "    values (:1,:2,:3,:4,:5)\n",
        "'''\n",
        "\n",
        "args = kor_sector.values.tolist()\n",
        "\n",
        "mycursor.executemany(query, args, batcherrors = False)\n",
        "connection.commit()\n",
        "\n",
        "connection.close()"
      ],
      "metadata": {
        "colab": {
          "base_uri": "https://localhost:8080/"
        },
        "id": "92RQo0N3mAlF",
        "outputId": "16119788-09f6-47c6-af6c-5c00ef43b0cb"
      },
      "execution_count": null,
      "outputs": [
        {
          "output_type": "stream",
          "name": "stdout",
          "text": [
            "20231114\n"
          ]
        },
        {
          "output_type": "stream",
          "name": "stderr",
          "text": [
            "100%|██████████| 10/10 [00:38<00:00,  3.84s/it]\n"
          ]
        }
      ]
    }
  ]
}