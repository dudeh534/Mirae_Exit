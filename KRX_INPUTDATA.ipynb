{
  "nbformat": 4,
  "nbformat_minor": 0,
  "metadata": {
    "colab": {
      "provenance": [],
      "authorship_tag": "ABX9TyP4PfWF7yZoBJxe7Plqk3nE",
      "include_colab_link": true
    },
    "kernelspec": {
      "name": "python3",
      "display_name": "Python 3"
    },
    "language_info": {
      "name": "python"
    }
  },
  "cells": [
    {
      "cell_type": "markdown",
      "metadata": {
        "id": "view-in-github",
        "colab_type": "text"
      },
      "source": [
        "<a href=\"https://colab.research.google.com/github/dudeh534/Mirae_Exit/blob/main/KRX_INPUTDATA.ipynb\" target=\"_parent\"><img src=\"https://colab.research.google.com/assets/colab-badge.svg\" alt=\"Open In Colab\"/></a>"
      ]
    },
    {
      "cell_type": "code",
      "source": [
        "!pip install --target=$my_path bs4 --upgrade"
      ],
      "metadata": {
        "colab": {
          "base_uri": "https://localhost:8080/"
        },
        "id": "2sQQNKwxmzbD",
        "outputId": "513754e1-644f-4ab8-df46-dbcd30680b98"
      },
      "execution_count": null,
      "outputs": [
        {
          "output_type": "stream",
          "name": "stdout",
          "text": [
            "Collecting bs4\n",
            "  Downloading bs4-0.0.1.tar.gz (1.1 kB)\n",
            "  Preparing metadata (setup.py) ... \u001b[?25l\u001b[?25hdone\n",
            "Collecting beautifulsoup4 (from bs4)\n",
            "  Using cached beautifulsoup4-4.12.2-py3-none-any.whl (142 kB)\n",
            "Collecting soupsieve>1.2 (from beautifulsoup4->bs4)\n",
            "  Using cached soupsieve-2.5-py3-none-any.whl (36 kB)\n",
            "Building wheels for collected packages: bs4\n",
            "  Building wheel for bs4 (setup.py) ... \u001b[?25l\u001b[?25hdone\n",
            "  Created wheel for bs4: filename=bs4-0.0.1-py3-none-any.whl size=1257 sha256=4b09e8e1b47b8bec45d01082a4b13c9dc3a114971926502211edf1ca95257105\n",
            "  Stored in directory: /root/.cache/pip/wheels/25/42/45/b773edc52acb16cd2db4cf1a0b47117e2f69bb4eb300ed0e70\n",
            "Successfully built bs4\n",
            "Installing collected packages: soupsieve, beautifulsoup4, bs4\n",
            "Successfully installed beautifulsoup4-4.12.2 bs4-0.0.1 soupsieve-2.5\n"
          ]
        }
      ]
    },
    {
      "cell_type": "code",
      "source": [
        "!pwd\n"
      ],
      "metadata": {
        "colab": {
          "base_uri": "https://localhost:8080/"
        },
        "id": "swxBULrDvWMD",
        "outputId": "ff54ba99-5c8a-4f4d-e55f-9a106c4be60c"
      },
      "execution_count": null,
      "outputs": [
        {
          "output_type": "stream",
          "name": "stdout",
          "text": [
            "/content\n"
          ]
        }
      ]
    },
    {
      "cell_type": "code",
      "execution_count": null,
      "metadata": {
        "colab": {
          "base_uri": "https://localhost:8080/"
        },
        "id": "jv5clrOdjj28",
        "outputId": "ff9f706f-f89e-4e75-aae5-41ea85209926"
      },
      "outputs": [
        {
          "output_type": "stream",
          "name": "stdout",
          "text": [
            "Mounted at /content/drive\n"
          ]
        }
      ],
      "source": [
        "#구글드라이브 연동용\n",
        "import os, sys\n",
        "from google.colab import drive\n",
        "drive.mount('/content/drive')\n",
        "\n",
        "my_path = '/content/notebooks'\n",
        "# Colab Notebooks 안에 my_env 폴더에 패키지 저장\n",
        "#os.symlink('/content/drive/My Drive/Colab Notebooks/my_env', my_path)\n",
        "\n",
        "os.symlink('/content/drive/My Drive/Colab Notebooks/my_env', my_path)\n",
        "sys.path.insert(0, my_path)"
      ]
    },
    {
      "cell_type": "code",
      "source": [
        "#오라클 연결 확인용\n",
        "import oracledb\n",
        "import getpass\n",
        "\n",
        "#userpwd = getpass.getpass(\"Enter password: \")\n",
        "\n",
        "connection=oracledb.connect(\n",
        "     user=\"admin\",\n",
        "     password='rlaTPWNS!123',\n",
        "     dsn=\"gangnamdatabase_high\",\n",
        "     config_dir=\"/content/drive/MyDrive/Colab Notebooks\",\n",
        "     wallet_location=\"/content/drive/MyDrive/Colab Notebooks\",\n",
        "     wallet_password='rlaTPWNS!123')\n",
        "\n",
        "\n",
        "\n",
        "cursor = connection.cursor()\n",
        "#sql = \"INSERT INTO PD61N001 (ITM_NO, ITM_NM,EXG_MKT_NO) VALUES ('AAPL','애플','101')\"\n",
        "#query = \"INSERT INTO table_name(idx,name,title)values(%s,%s,%s)\"\n",
        "#cursor.execute(sql)\n",
        "\n",
        "#connection.commit()\n",
        "\n",
        "cursor.execute('select *from pd61n001')\n",
        "rows = cursor.fetchall()\n",
        "print(rows)\n",
        "cursor.close()\n"
      ],
      "metadata": {
        "colab": {
          "base_uri": "https://localhost:8080/"
        },
        "id": "bzPvvpGwjmq-",
        "outputId": "a5ec07ab-df37-4f10-a003-77572c713004"
      },
      "execution_count": null,
      "outputs": [
        {
          "output_type": "stream",
          "name": "stdout",
          "text": [
            "[('AAPL', '애플', '101', None), ('A005930\\r', '삼성전자', '001', None)]\n"
          ]
        }
      ]
    },
    {
      "cell_type": "code",
      "source": [
        "#메인코드\n",
        "import requests as rq\n",
        "from bs4 import BeautifulSoup\n",
        "from io import BytesIO\n",
        "import pandas as pd\n",
        "import oracledb\n",
        "import getpass\n",
        "import re\n",
        "\n",
        "url = 'https://finance.naver.com/sise/sise_deposit.nhn'\n",
        "data = rq.get(url)\n",
        "data_html = BeautifulSoup(data.content)\n",
        "parse_day = data_html.select_one(\n",
        "    'div.subtop_sise_graph2 > ul.subtop_chart_note > li > span.tah').text\n",
        "\n",
        "biz_day = re.findall('[0-9]+', parse_day)\n",
        "biz_day = ''.join(biz_day)\n",
        "\n",
        "print(biz_day)\n",
        "\n",
        "\n",
        "\n",
        "gen_otp_url = 'http://data.krx.co.kr/comm/fileDn/GenerateOTP/generate.cmd'\n",
        "\n",
        "gen_otp_stk = {\n",
        "    'mktId': 'STK',\n",
        "    'trdDd': biz_day,\n",
        "    'money': '1',\n",
        "    'csvxls_isNo': 'false',\n",
        "    'name': 'fileDown',\n",
        "    'url': 'dbms/MDC/STAT/standard/MDCSTAT03901'\n",
        "}\n",
        "headers = {'Referer': 'http://data.krx.co.kr/contents/MDC/MDI/mdiLoader'}\n",
        "otp_stk = rq.post(gen_otp_url, gen_otp_stk, headers=headers).text\n",
        "\n",
        "down_url = 'http://data.krx.co.kr/comm/fileDn/download_csv/download.cmd'\n",
        "down_sector_stk = rq.post(down_url, {'code': otp_stk}, headers=headers)\n",
        "sector_stk = pd.read_csv(BytesIO(down_sector_stk.content), encoding='EUC-KR')\n",
        "\n",
        "gen_otp_ksq = {\n",
        "    'mktId': 'KSQ',  # 코스닥 입력\n",
        "    'trdDd': biz_day,\n",
        "    'money': '1',\n",
        "    'csvxls_isNo': 'false',\n",
        "    'name': 'fileDown',\n",
        "    'url': 'dbms/MDC/STAT/standard/MDCSTAT03901'\n",
        "}\n",
        "otp_ksq = rq.post(gen_otp_url, gen_otp_ksq, headers=headers).text\n",
        "\n",
        "down_sector_ksq = rq.post(down_url, {'code': otp_ksq}, headers=headers)\n",
        "sector_ksq = pd.read_csv(BytesIO(down_sector_ksq.content), encoding='EUC-KR')\n",
        "\n",
        "krx_sector = pd.concat([sector_stk, sector_ksq]).reset_index(drop=True)\n",
        "krx_sector['종목명'] = krx_sector['종목명'].str.strip()\n",
        "krx_sector['기준일'] = biz_day\n",
        "\n",
        "#print(krx_sector.head())\n",
        "\n",
        "gen_otp_url = 'http://data.krx.co.kr/comm/fileDn/GenerateOTP/generate.cmd'\n",
        "gen_otp_data = {\n",
        "    'searchType': '1',\n",
        "    'mktId': 'ALL',\n",
        "    'trdDd': biz_day,\n",
        "    'csvxls_isNo': 'false',\n",
        "    'name': 'fileDown',\n",
        "    'url': 'dbms/MDC/STAT/standard/MDCSTAT03501'\n",
        "}\n",
        "headers = {'Referer': 'http://data.krx.co.kr/contents/MDC/MDI/mdiLoader'}\n",
        "otp = rq.post(gen_otp_url, gen_otp_data, headers=headers).text\n",
        "\n",
        "down_url = 'http://data.krx.co.kr/comm/fileDn/download_csv/download.cmd'\n",
        "krx_ind = rq.post(down_url, {'code': otp}, headers=headers)\n",
        "\n",
        "krx_ind = pd.read_csv(BytesIO(krx_ind.content), encoding='EUC-KR')\n",
        "krx_ind['종목명'] = krx_ind['종목명'].str.strip()\n",
        "krx_ind['기준일'] = biz_day\n",
        "\n",
        "#print(krx_ind.head())\n",
        "\n",
        "kor_ticker = pd.merge(krx_sector,\n",
        "                      krx_ind,\n",
        "                      on=krx_sector.columns.intersection(\n",
        "                          krx_ind.columns).tolist(),\n",
        "                      how='outer')\n",
        "\n",
        "\n",
        "\n",
        "import numpy as np\n",
        "diff = list(set(krx_sector['종목명']).symmetric_difference(set(krx_ind['종목명'])))\n",
        "kor_ticker['종목구분'] = np.where(kor_ticker['종목명'].str.contains('스팩|제[0-9]+호'), '스팩',\n",
        "                              np.where(kor_ticker['종목코드'].str[-1:] != '0', '우선주',\n",
        "                                       np.where(kor_ticker['종목명'].str.endswith('리츠'), '리츠',\n",
        "                                                np.where(kor_ticker['종목명'].isin(diff),  '기타',\n",
        "                                                '보통주'))))\n",
        "kor_ticker = kor_ticker.reset_index(drop=True)\n",
        "kor_ticker.columns = kor_ticker.columns.str.replace(' ', '')\n",
        "kor_ticker = kor_ticker[['기준일', '종목코드', '종목명', '시장구분', '종가',\n",
        "                         '시가총액', 'EPS', '선행EPS', 'BPS', '주당배당금', '종목구분']]\n",
        "kor_ticker = kor_ticker.replace({np.nan: None})\n",
        "kor_ticker['기준일'] = pd.to_datetime(kor_ticker['기준일'])\n",
        "\n",
        "#print(kor_ticker.head())\n",
        "\n",
        "#오라클 연결\n",
        "connection=oracledb.connect(\n",
        "     user=\"admin\",\n",
        "     password='rlaTPWNS!123',\n",
        "     dsn=\"gangnamdatabase_high\",\n",
        "     config_dir=\"/content/drive/MyDrive/Colab Notebooks\",\n",
        "     wallet_location=\"/content/drive/MyDrive/Colab Notebooks\",\n",
        "     wallet_password='rlaTPWNS!123')\n",
        "\n",
        "mycursor = connection.cursor()\n",
        "\n",
        "args = kor_ticker.values.tolist()\n",
        "\n",
        "\n",
        "sql = '''INSERT INTO kor_ticker (기준일, 종목코드, 종목명, 시장구분, 종가, 시가총액, EPS, 선행EPS, BPS, 주당배당금, 종목구분) VALUES (:1,:2,:3,:4,:5,:6,:7,:8,:9,:10,:11)'''\n",
        "#query = \"INSERT INTO table_name(idx,name,title)values(%s,%s,%s)\"\n",
        "mycursor.executemany(sql,args, batcherrors = False)\n",
        "#print(args)\n",
        "\n",
        "connection.commit()\n",
        "\n",
        "#select_sql = 'SELECT *FROM kor_ticker'\n",
        "#mycursor.execute(select_sql)\n",
        "\n",
        "connection.close()"
      ],
      "metadata": {
        "colab": {
          "base_uri": "https://localhost:8080/"
        },
        "id": "w_Noq3Zsl026",
        "outputId": "25cddd59-5564-4f7f-ed62-efd0f7c2b469"
      },
      "execution_count": null,
      "outputs": [
        {
          "output_type": "stream",
          "name": "stdout",
          "text": [
            "20231114\n"
          ]
        }
      ]
    }
  ]
}